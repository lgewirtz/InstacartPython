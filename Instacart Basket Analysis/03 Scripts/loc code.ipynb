{
 "cells": [
  {
   "cell_type": "code",
   "execution_count": null,
   "id": "e234fcd6",
   "metadata": {},
   "outputs": [],
   "source": [
    "# drop _merge column from sample df by using negative indexing and iloc\n",
    "dfsmall = dfsmall.iloc[: , :-1]"
   ]
  },
  {
   "cell_type": "code",
   "execution_count": null,
   "id": "bd026b51",
   "metadata": {},
   "outputs": [],
   "source": [
    "dfsmall.loc[0, 'user_id']"
   ]
  },
  {
   "cell_type": "code",
   "execution_count": null,
   "id": "5916d925",
   "metadata": {},
   "outputs": [],
   "source": [
    "dfsmall.loc[0, 'product_id']"
   ]
  }
 ],
 "metadata": {
  "kernelspec": {
   "display_name": "Python 3",
   "language": "python",
   "name": "python3"
  },
  "language_info": {
   "codemirror_mode": {
    "name": "ipython",
    "version": 3
   },
   "file_extension": ".py",
   "mimetype": "text/x-python",
   "name": "python",
   "nbconvert_exporter": "python",
   "pygments_lexer": "ipython3",
   "version": "3.8.8"
  }
 },
 "nbformat": 4,
 "nbformat_minor": 5
}
